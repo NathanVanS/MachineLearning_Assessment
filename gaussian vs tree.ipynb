{
 "cells": [
  {
   "cell_type": "code",
   "execution_count": 55,
   "metadata": {},
   "outputs": [
    {
     "name": "stdout",
     "output_type": "stream",
     "text": [
      "<class 'pandas.core.frame.DataFrame'>\n",
      "RangeIndex: 690 entries, 0 to 689\n",
      "Data columns (total 16 columns):\n",
      " #   Column          Non-Null Count  Dtype  \n",
      "---  ------          --------------  -----  \n",
      " 0   Gender          690 non-null    int64  \n",
      " 1   Age             690 non-null    float64\n",
      " 2   Debt            690 non-null    float64\n",
      " 3   Married         690 non-null    int64  \n",
      " 4   BankCustomer    690 non-null    int64  \n",
      " 5   Industry        690 non-null    object \n",
      " 6   Ethnicity       690 non-null    object \n",
      " 7   YearsEmployed   690 non-null    float64\n",
      " 8   PriorDefault    690 non-null    int64  \n",
      " 9   Employed        690 non-null    int64  \n",
      " 10  CreditScore     690 non-null    int64  \n",
      " 11  DriversLicense  690 non-null    int64  \n",
      " 12  Citizen         690 non-null    object \n",
      " 13  ZipCode         690 non-null    int64  \n",
      " 14  Income          690 non-null    int64  \n",
      " 15  Approved        690 non-null    int64  \n",
      "dtypes: float64(3), int64(10), object(3)\n",
      "memory usage: 86.4+ KB\n"
     ]
    },
    {
     "data": {
      "text/html": [
       "<div>\n",
       "<style scoped>\n",
       "    .dataframe tbody tr th:only-of-type {\n",
       "        vertical-align: middle;\n",
       "    }\n",
       "\n",
       "    .dataframe tbody tr th {\n",
       "        vertical-align: top;\n",
       "    }\n",
       "\n",
       "    .dataframe thead th {\n",
       "        text-align: right;\n",
       "    }\n",
       "</style>\n",
       "<table border=\"1\" class=\"dataframe\">\n",
       "  <thead>\n",
       "    <tr style=\"text-align: right;\">\n",
       "      <th></th>\n",
       "      <th>Gender</th>\n",
       "      <th>Age</th>\n",
       "      <th>Debt</th>\n",
       "      <th>Married</th>\n",
       "      <th>BankCustomer</th>\n",
       "      <th>Industry</th>\n",
       "      <th>Ethnicity</th>\n",
       "      <th>YearsEmployed</th>\n",
       "      <th>PriorDefault</th>\n",
       "      <th>Employed</th>\n",
       "      <th>CreditScore</th>\n",
       "      <th>DriversLicense</th>\n",
       "      <th>Citizen</th>\n",
       "      <th>ZipCode</th>\n",
       "      <th>Income</th>\n",
       "      <th>Approved</th>\n",
       "    </tr>\n",
       "  </thead>\n",
       "  <tbody>\n",
       "    <tr>\n",
       "      <th>0</th>\n",
       "      <td>1</td>\n",
       "      <td>30.83</td>\n",
       "      <td>0.000</td>\n",
       "      <td>1</td>\n",
       "      <td>1</td>\n",
       "      <td>Industrials</td>\n",
       "      <td>White</td>\n",
       "      <td>1.25</td>\n",
       "      <td>1</td>\n",
       "      <td>1</td>\n",
       "      <td>1</td>\n",
       "      <td>0</td>\n",
       "      <td>ByBirth</td>\n",
       "      <td>202</td>\n",
       "      <td>0</td>\n",
       "      <td>1</td>\n",
       "    </tr>\n",
       "    <tr>\n",
       "      <th>1</th>\n",
       "      <td>0</td>\n",
       "      <td>58.67</td>\n",
       "      <td>4.460</td>\n",
       "      <td>1</td>\n",
       "      <td>1</td>\n",
       "      <td>Materials</td>\n",
       "      <td>Black</td>\n",
       "      <td>3.04</td>\n",
       "      <td>1</td>\n",
       "      <td>1</td>\n",
       "      <td>6</td>\n",
       "      <td>0</td>\n",
       "      <td>ByBirth</td>\n",
       "      <td>43</td>\n",
       "      <td>560</td>\n",
       "      <td>1</td>\n",
       "    </tr>\n",
       "    <tr>\n",
       "      <th>2</th>\n",
       "      <td>0</td>\n",
       "      <td>24.50</td>\n",
       "      <td>0.500</td>\n",
       "      <td>1</td>\n",
       "      <td>1</td>\n",
       "      <td>Materials</td>\n",
       "      <td>Black</td>\n",
       "      <td>1.50</td>\n",
       "      <td>1</td>\n",
       "      <td>0</td>\n",
       "      <td>0</td>\n",
       "      <td>0</td>\n",
       "      <td>ByBirth</td>\n",
       "      <td>280</td>\n",
       "      <td>824</td>\n",
       "      <td>1</td>\n",
       "    </tr>\n",
       "    <tr>\n",
       "      <th>3</th>\n",
       "      <td>1</td>\n",
       "      <td>27.83</td>\n",
       "      <td>1.540</td>\n",
       "      <td>1</td>\n",
       "      <td>1</td>\n",
       "      <td>Industrials</td>\n",
       "      <td>White</td>\n",
       "      <td>3.75</td>\n",
       "      <td>1</td>\n",
       "      <td>1</td>\n",
       "      <td>5</td>\n",
       "      <td>1</td>\n",
       "      <td>ByBirth</td>\n",
       "      <td>100</td>\n",
       "      <td>3</td>\n",
       "      <td>1</td>\n",
       "    </tr>\n",
       "    <tr>\n",
       "      <th>4</th>\n",
       "      <td>1</td>\n",
       "      <td>20.17</td>\n",
       "      <td>5.625</td>\n",
       "      <td>1</td>\n",
       "      <td>1</td>\n",
       "      <td>Industrials</td>\n",
       "      <td>White</td>\n",
       "      <td>1.71</td>\n",
       "      <td>1</td>\n",
       "      <td>0</td>\n",
       "      <td>0</td>\n",
       "      <td>0</td>\n",
       "      <td>ByOtherMeans</td>\n",
       "      <td>120</td>\n",
       "      <td>0</td>\n",
       "      <td>1</td>\n",
       "    </tr>\n",
       "  </tbody>\n",
       "</table>\n",
       "</div>"
      ],
      "text/plain": [
       "   Gender    Age   Debt  Married  BankCustomer     Industry Ethnicity  \\\n",
       "0       1  30.83  0.000        1             1  Industrials     White   \n",
       "1       0  58.67  4.460        1             1    Materials     Black   \n",
       "2       0  24.50  0.500        1             1    Materials     Black   \n",
       "3       1  27.83  1.540        1             1  Industrials     White   \n",
       "4       1  20.17  5.625        1             1  Industrials     White   \n",
       "\n",
       "   YearsEmployed  PriorDefault  Employed  CreditScore  DriversLicense  \\\n",
       "0           1.25             1         1            1               0   \n",
       "1           3.04             1         1            6               0   \n",
       "2           1.50             1         0            0               0   \n",
       "3           3.75             1         1            5               1   \n",
       "4           1.71             1         0            0               0   \n",
       "\n",
       "        Citizen  ZipCode  Income  Approved  \n",
       "0       ByBirth      202       0         1  \n",
       "1       ByBirth       43     560         1  \n",
       "2       ByBirth      280     824         1  \n",
       "3       ByBirth      100       3         1  \n",
       "4  ByOtherMeans      120       0         1  "
      ]
     },
     "execution_count": 55,
     "metadata": {},
     "output_type": "execute_result"
    }
   ],
   "source": [
    "import pandas as pd\n",
    "from sklearn.model_selection import train_test_split\n",
    "from sklearn.naive_bayes import GaussianNB\n",
    "from sklearn import metrics\n",
    "from sklearn.ensemble import RandomForestClassifier\n",
    "from sklearn.linear_model import LogisticRegressionCV\n",
    "credit = pd.read_csv('creditcards.csv')\n",
    "\n",
    "credit.info()\n",
    "credit.head()"
   ]
  },
  {
   "cell_type": "markdown",
   "metadata": {},
   "source": [
    "Selecting Columns that have numeric value so that Gaussian can be run\n",
    "Also getting training and testing sets"
   ]
  },
  {
   "cell_type": "code",
   "execution_count": 56,
   "metadata": {},
   "outputs": [],
   "source": [
    "X = credit.copy().drop(columns=['Gender','Approved','Married','BankCustomer','Industry','Ethnicity','PriorDefault','Employed','DriversLicense','Citizen','ZipCode'])\n",
    "y = credit['Approved'].copy()\n",
    "X_train, X_test, y_train, y_test = train_test_split(X, y, test_size=0.25, random_state=0)"
   ]
  },
  {
   "cell_type": "code",
   "execution_count": 57,
   "metadata": {},
   "outputs": [
    {
     "data": {
      "text/html": [
       "<div>\n",
       "<style scoped>\n",
       "    .dataframe tbody tr th:only-of-type {\n",
       "        vertical-align: middle;\n",
       "    }\n",
       "\n",
       "    .dataframe tbody tr th {\n",
       "        vertical-align: top;\n",
       "    }\n",
       "\n",
       "    .dataframe thead th {\n",
       "        text-align: right;\n",
       "    }\n",
       "</style>\n",
       "<table border=\"1\" class=\"dataframe\">\n",
       "  <thead>\n",
       "    <tr style=\"text-align: right;\">\n",
       "      <th></th>\n",
       "      <th>Age</th>\n",
       "      <th>Debt</th>\n",
       "      <th>YearsEmployed</th>\n",
       "      <th>CreditScore</th>\n",
       "      <th>Income</th>\n",
       "    </tr>\n",
       "  </thead>\n",
       "  <tbody>\n",
       "    <tr>\n",
       "      <th>161</th>\n",
       "      <td>44.00</td>\n",
       "      <td>2.000</td>\n",
       "      <td>1.75</td>\n",
       "      <td>2</td>\n",
       "      <td>15</td>\n",
       "    </tr>\n",
       "    <tr>\n",
       "      <th>181</th>\n",
       "      <td>21.25</td>\n",
       "      <td>2.335</td>\n",
       "      <td>0.50</td>\n",
       "      <td>4</td>\n",
       "      <td>0</td>\n",
       "    </tr>\n",
       "    <tr>\n",
       "      <th>236</th>\n",
       "      <td>26.17</td>\n",
       "      <td>0.250</td>\n",
       "      <td>0.00</td>\n",
       "      <td>0</td>\n",
       "      <td>0</td>\n",
       "    </tr>\n",
       "    <tr>\n",
       "      <th>428</th>\n",
       "      <td>49.17</td>\n",
       "      <td>2.290</td>\n",
       "      <td>0.29</td>\n",
       "      <td>0</td>\n",
       "      <td>3</td>\n",
       "    </tr>\n",
       "    <tr>\n",
       "      <th>159</th>\n",
       "      <td>34.08</td>\n",
       "      <td>0.080</td>\n",
       "      <td>0.04</td>\n",
       "      <td>1</td>\n",
       "      <td>2000</td>\n",
       "    </tr>\n",
       "  </tbody>\n",
       "</table>\n",
       "</div>"
      ],
      "text/plain": [
       "       Age   Debt  YearsEmployed  CreditScore  Income\n",
       "161  44.00  2.000           1.75            2      15\n",
       "181  21.25  2.335           0.50            4       0\n",
       "236  26.17  0.250           0.00            0       0\n",
       "428  49.17  2.290           0.29            0       3\n",
       "159  34.08  0.080           0.04            1    2000"
      ]
     },
     "execution_count": 57,
     "metadata": {},
     "output_type": "execute_result"
    }
   ],
   "source": [
    "X_train.head()"
   ]
  },
  {
   "cell_type": "code",
   "execution_count": 58,
   "metadata": {},
   "outputs": [
    {
     "data": {
      "text/plain": [
       "count    517.000000\n",
       "mean       0.441006\n",
       "std        0.496988\n",
       "min        0.000000\n",
       "25%        0.000000\n",
       "50%        0.000000\n",
       "75%        1.000000\n",
       "max        1.000000\n",
       "Name: Approved, dtype: float64"
      ]
     },
     "execution_count": 58,
     "metadata": {},
     "output_type": "execute_result"
    }
   ],
   "source": [
    "y_train.describe()"
   ]
  },
  {
   "cell_type": "markdown",
   "metadata": {},
   "source": [
    "No modification to Gaussian"
   ]
  },
  {
   "cell_type": "code",
   "execution_count": 59,
   "metadata": {},
   "outputs": [
    {
     "name": "stdout",
     "output_type": "stream",
     "text": [
      "Number of mislabeled points out of a total 173 points : 52\n",
      "GaussianNB()\n",
      "              precision    recall  f1-score   support\n",
      "\n",
      "           0       0.66      0.94      0.77        94\n",
      "           1       0.85      0.42      0.56        79\n",
      "\n",
      "    accuracy                           0.70       173\n",
      "   macro avg       0.75      0.68      0.67       173\n",
      "weighted avg       0.74      0.70      0.67       173\n",
      "\n",
      "[[88  6]\n",
      " [46 33]]\n",
      "0.6994219653179191\n",
      "[0.5589941972920697, 0.4410058027079304]\n"
     ]
    }
   ],
   "source": [
    "gnb = GaussianNB()\n",
    "#priors = (.3,.7)\n",
    "y_pred = gnb.fit(X_train, y_train).predict(X_test)\n",
    "print(\"Number of mislabeled points out of a total %d points : %d\"\n",
    "% (X_test.shape[0], (y_test != y_pred).sum()))\n",
    "gnb.fit(X_train, y_train)\n",
    "print(gnb)\n",
    "# make predictions\n",
    "expected = y_test\n",
    "predicted = gnb.predict(X_test)\n",
    "# summarize the fit of the model\n",
    "print(metrics.classification_report(expected, predicted))\n",
    "print(metrics.confusion_matrix(expected, predicted))\n",
    "print(gnb.score(X_test, y_test))"
   ]
  },
  {
   "cell_type": "markdown",
   "metadata": {},
   "source": [
    "Adjusting priors on the Gaussian"
   ]
  },
  {
   "cell_type": "code",
   "execution_count": 60,
   "metadata": {},
   "outputs": [
    {
     "name": "stdout",
     "output_type": "stream",
     "text": [
      "Number of mislabeled points out of a total 173 points : 51\n",
      "GaussianNB(priors=(0.5, 0.5))\n",
      "              precision    recall  f1-score   support\n",
      "\n",
      "           0       0.66      0.94      0.78        94\n",
      "           1       0.85      0.43      0.57        79\n",
      "\n",
      "    accuracy                           0.71       173\n",
      "   macro avg       0.76      0.68      0.67       173\n",
      "weighted avg       0.75      0.71      0.68       173\n",
      "\n",
      "[[88  6]\n",
      " [45 34]]\n",
      "0.7052023121387283\n"
     ]
    }
   ],
   "source": [
    "gnb = GaussianNB(priors = (.5,.5))\n",
    "#priors = (.3,.7)\n",
    "y_pred = gnb.fit(X_train, y_train).predict(X_test)\n",
    "print(\"Number of mislabeled points out of a total %d points : %d\"\n",
    "% (X_test.shape[0], (y_test != y_pred).sum()))\n",
    "gnb.fit(X_train, y_train)\n",
    "print(gnb)\n",
    "# make predictions\n",
    "expected = y_test\n",
    "predicted = gnb.predict(X_test)\n",
    "# summarize the fit of the model\n",
    "print(metrics.classification_report(expected, predicted))\n",
    "print(metrics.confusion_matrix(expected, predicted))\n",
    "print(gnb.score(X_test, y_test))"
   ]
  },
  {
   "cell_type": "markdown",
   "metadata": {},
   "source": [
    "Adjusting priors on the Gaussian further"
   ]
  },
  {
   "cell_type": "code",
   "execution_count": 61,
   "metadata": {},
   "outputs": [
    {
     "name": "stdout",
     "output_type": "stream",
     "text": [
      "Number of mislabeled points out of a total 173 points : 48\n",
      "GaussianNB(priors=(0.1, 0.9))\n",
      "              precision    recall  f1-score   support\n",
      "\n",
      "           0       0.69      0.90      0.78        94\n",
      "           1       0.82      0.51      0.62        79\n",
      "\n",
      "    accuracy                           0.72       173\n",
      "   macro avg       0.75      0.71      0.70       173\n",
      "weighted avg       0.75      0.72      0.71       173\n",
      "\n",
      "[[85  9]\n",
      " [39 40]]\n",
      "0.7225433526011561\n"
     ]
    }
   ],
   "source": [
    "gnb = GaussianNB(priors = (.1,.9))\n",
    "#priors = (.3,.7)\n",
    "y_pred = gnb.fit(X_train, y_train).predict(X_test)\n",
    "print(\"Number of mislabeled points out of a total %d points : %d\"\n",
    "% (X_test.shape[0], (y_test != y_pred).sum()))\n",
    "gnb.fit(X_train, y_train)\n",
    "print(gnb)\n",
    "# make predictions\n",
    "expected = y_test\n",
    "predicted = gnb.predict(X_test)\n",
    "# summarize the fit of the model\n",
    "print(metrics.classification_report(expected, predicted))\n",
    "print(metrics.confusion_matrix(expected, predicted))\n",
    "print(gnb.score(X_test, y_test))"
   ]
  },
  {
   "cell_type": "markdown",
   "metadata": {},
   "source": [
    "Random Forest Classification"
   ]
  },
  {
   "cell_type": "code",
   "execution_count": 62,
   "metadata": {},
   "outputs": [
    {
     "name": "stdout",
     "output_type": "stream",
     "text": [
      "RandomForestClassifier()\n",
      "Number of mislabeled points out of a total 173 points : 47\n",
      "              precision    recall  f1-score   support\n",
      "\n",
      "           0       0.73      0.80      0.76        94\n",
      "           1       0.73      0.65      0.68        79\n",
      "\n",
      "    accuracy                           0.73       173\n",
      "   macro avg       0.73      0.72      0.72       173\n",
      "weighted avg       0.73      0.73      0.73       173\n",
      "\n",
      "[[75 19]\n",
      " [28 51]]\n",
      "0.7283236994219653\n"
     ]
    }
   ],
   "source": [
    "clf = RandomForestClassifier(n_estimators = 100,)\n",
    "clf.fit(X_train, y_train)\n",
    "print(clf)\n",
    "y_pred2 = clf.fit(X_train, y_train).predict(X_test)\n",
    "print(\"Number of mislabeled points out of a total %d points : %d\"\n",
    "% (X_test.shape[0], (y_test != y_pred2).sum()))\n",
    "# make predictions\n",
    "expected2 = y_test\n",
    "predicted2 = clf.predict(X_test)\n",
    "# summarize the fit of the model\n",
    "print(metrics.classification_report(expected2, predicted2))\n",
    "print(metrics.confusion_matrix(expected2, predicted2))\n",
    "print(clf.score(X_test, y_test))"
   ]
  },
  {
   "cell_type": "markdown",
   "metadata": {},
   "source": [
    "Logisitc Regression"
   ]
  },
  {
   "cell_type": "code",
   "execution_count": 63,
   "metadata": {},
   "outputs": [
    {
     "name": "stdout",
     "output_type": "stream",
     "text": [
      "Number of mislabeled points out of a total 173 points : 43\n",
      "              precision    recall  f1-score   support\n",
      "\n",
      "           0       0.70      0.94      0.80        94\n",
      "           1       0.88      0.53      0.66        79\n",
      "\n",
      "    accuracy                           0.75       173\n",
      "   macro avg       0.79      0.73      0.73       173\n",
      "weighted avg       0.78      0.75      0.74       173\n",
      "\n",
      "[[88  6]\n",
      " [37 42]]\n",
      "0.7514450867052023\n"
     ]
    }
   ],
   "source": [
    "logregcv = LogisticRegressionCV(cv=10, random_state=0, max_iter=500)\n",
    "logregcv.fit(X_train, y_train)\n",
    "y_pred = logregcv.fit(X_train, y_train).predict(X_test)\n",
    "print(\"Number of mislabeled points out of a total %d points : %d\"\n",
    "% (X_test.shape[0], (y_test != y_pred).sum()))\n",
    "# make predictions\n",
    "expected3 = y_test\n",
    "predicted3 = logregcv.predict(X_test)\n",
    "# summarize the fit of the model\n",
    "print(metrics.classification_report(expected3, predicted3))\n",
    "print(metrics.confusion_matrix(expected3, predicted3))\n",
    "print(logregcv.score(X_test, y_test))"
   ]
  }
 ],
 "metadata": {
  "kernelspec": {
   "display_name": "Python 3.9.12",
   "language": "python",
   "name": "python3"
  },
  "language_info": {
   "codemirror_mode": {
    "name": "ipython",
    "version": 3
   },
   "file_extension": ".py",
   "mimetype": "text/x-python",
   "name": "python",
   "nbconvert_exporter": "python",
   "pygments_lexer": "ipython3",
   "version": "3.9.12"
  },
  "orig_nbformat": 4,
  "vscode": {
   "interpreter": {
    "hash": "6f5583cf1d9466b5c27e75c89cc6b383bed5736d6b16c51c8074d8690011a952"
   }
  }
 },
 "nbformat": 4,
 "nbformat_minor": 2
}
